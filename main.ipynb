{
 "cells": [
  {
   "cell_type": "markdown",
   "id": "9706609d",
   "metadata": {},
   "source": [
    "# LLMs are stateless\n",
    "LLMs don't remember your previous interactions with them by default."
   ]
  },
  {
   "cell_type": "code",
   "execution_count": null,
   "id": "9c2a6e09",
   "metadata": {},
   "outputs": [],
   "source": [
    "from utils import llama"
   ]
  },
  {
   "cell_type": "markdown",
   "id": "5c13dc04",
   "metadata": {},
   "source": [
    "# Constructing multi-turn prompts\n",
    "You need to provide prior prompts and responses as part of the context of each new turn in the conversation."
   ]
  },
  {
   "cell_type": "code",
   "execution_count": 24,
   "id": "1b98b006",
   "metadata": {},
   "outputs": [],
   "source": [
    "prompt_1 = \"\"\"\n",
    "What are the fun activities that I can do this weekend?\n",
    "\"\"\"\n",
    "response = llama(prompt = prompt_1)"
   ]
  },
  {
   "cell_type": "code",
   "execution_count": 25,
   "id": "bbdf0cb6",
   "metadata": {},
   "outputs": [],
   "source": [
    "prompt_2 = \"\"\"\n",
    "Which of this would be good for my Health?\n",
    "\"\"\"\n"
   ]
  },
  {
   "cell_type": "code",
   "execution_count": 26,
   "id": "5f7f65e7",
   "metadata": {},
   "outputs": [
    {
     "name": "stdout",
     "output_type": "stream",
     "text": [
      "\n",
      "<s>[INST] \n",
      "What are the fun activities that I can do this weekend?\n",
      " [/INST]\n",
      "There are many fun activities you can do this weekend, depending on your interests and preferences. Here are some ideas:\n",
      "\n",
      "1. Outdoor activities:\n",
      " * Go for a hike or nature walk\n",
      " * Have a picnic in a park or by a lake\n",
      " * Rent bikes and explore local trails\n",
      " * Play sports like tennis, basketball, or soccer with friends\n",
      "2. Indoor activities:\n",
      " * Host a game night with board games, card games, or video games\n",
      " * Try out a new recipe in the kitchen\n",
      " * Watch a movie marathon or binge-watch your favorite show\n",
      " * Visit a museum or art gallery to learn something new\n",
      "3. Creative activities:\n",
      " * Paint or draw using different mediums and techniques\n",
      " * Write poetry or short stories\n",
      " * Take photos of nature, architecture, or street art\n",
      " * Learn a new skill or hobby like woodworking, knitting, or cooking\n",
      "4. Social activities:\n",
      " * Host a potluck dinner with friends\n",
      " * Attend a concert, festival, or event in your community\n",
      " * Plan a weekend getaway to a nearby city or town\n",
      " * Meet up with friends for brunch or coffee\n",
      "5. Relaxation and self-care:\n",
      " * Take a yoga or meditation class\n",
      " * Get a massage or spa treatment\n",
      " * Read a book or listen to an audiobook\n",
      " * Take a nap or sleep in late\n",
      "\n",
      "Remember, you can always mix and match these ideas to create your perfect weekend!\n",
      "\n",
      "Which activity are you leaning towards?\n",
      "</s>\n",
      "<s>[INST] \n",
      "Which of this would be good for my Health?\n",
      " [/INST]\n",
      "\n"
     ]
    }
   ],
   "source": [
    "prompt_chat = f\"\"\"\n",
    "<s>[INST] {prompt_1} [/INST]\n",
    "{response}\n",
    "</s>\n",
    "<s>[INST] {prompt_2} [/INST]\n",
    "\"\"\"\n",
    "print(prompt_chat)"
   ]
  },
  {
   "cell_type": "code",
   "execution_count": 27,
   "id": "df4db224",
   "metadata": {},
   "outputs": [
    {
     "name": "stdout",
     "output_type": "stream",
     "text": [
      "Prompt:\n",
      "\n",
      "<s>[INST] \n",
      "What are the fun activities that I can do this weekend?\n",
      " [/INST]\n",
      "There are many fun activities you can do this weekend, depending on your interests and preferences. Here are some ideas:\n",
      "\n",
      "1. Outdoor activities:\n",
      " * Go for a hike or nature walk\n",
      " * Have a picnic in a park or by a lake\n",
      " * Rent bikes and explore local trails\n",
      " * Play sports like tennis, basketball, or soccer with friends\n",
      "2. Indoor activities:\n",
      " * Host a game night with board games, card games, or video games\n",
      " * Try out a new recipe in the kitchen\n",
      " * Watch a movie marathon or binge-watch your favorite show\n",
      " * Visit a museum or art gallery to learn something new\n",
      "3. Creative activities:\n",
      " * Paint or draw using different mediums and techniques\n",
      " * Write poetry or short stories\n",
      " * Take photos of nature, architecture, or street art\n",
      " * Learn a new skill or hobby like woodworking, knitting, or cooking\n",
      "4. Social activities:\n",
      " * Host a potluck dinner with friends\n",
      " * Attend a concert, festival, or event in your community\n",
      " * Plan a weekend getaway to a nearby city or town\n",
      " * Meet up with friends for brunch or coffee\n",
      "5. Relaxation and self-care:\n",
      " * Take a yoga or meditation class\n",
      " * Get a massage or spa treatment\n",
      " * Read a book or listen to an audiobook\n",
      " * Take a nap or sleep in late\n",
      "\n",
      "Remember, you can always mix and match these ideas to create your perfect weekend!\n",
      "\n",
      "Which activity are you leaning towards?\n",
      "</s>\n",
      "<s>[INST] \n",
      "Which of this would be good for my Health?\n",
      " [/INST]\n",
      "\n",
      "\n",
      "model: llama3.2\n"
     ]
    }
   ],
   "source": [
    "response = llama(prompt_chat,\n",
    "                 add_inst=False,\n",
    "                 verbose=True)"
   ]
  },
  {
   "cell_type": "code",
   "execution_count": 28,
   "id": "040cb754",
   "metadata": {},
   "outputs": [
    {
     "name": "stdout",
     "output_type": "stream",
     "text": [
      "Based on the activities I listed earlier, here are some suggestions that can be beneficial for your health:\n",
      "\n",
      "1. Outdoor activities:\n",
      "\t* Going for a hike or nature walk: Can help improve cardiovascular health, reduce stress, and boost mood.\n",
      "\t* Having a picnic in a park or by a lake: Can provide opportunities to connect with nature, get some fresh air, and enjoy social time.\n",
      "2. Relaxation and self-care:\n",
      "\t* Taking a yoga or meditation class: Can help reduce stress, improve flexibility, and promote relaxation.\n",
      "\t* Getting a massage or spa treatment: Can help alleviate muscle tension, promote relaxation, and improve overall well-being.\n",
      "3. Creative activities:\n",
      "\t* Painting or drawing using different mediums and techniques: Can be a great way to express yourself creatively, reduce stress, and relax.\n",
      "\n",
      "It's also worth considering activities that can help you establish healthy habits, such as:\n",
      "\n",
      "* Trying out a new recipe in the kitchen (can help with meal planning and nutrition)\n",
      "* Planning a weekend getaway (can encourage physical activity, socializing, and exploring new places)\n",
      "\n",
      "Remember to always listen to your body and choose activities that feel enjoyable and comfortable for you.\n"
     ]
    }
   ],
   "source": [
    "print(response)"
   ]
  },
  {
   "cell_type": "markdown",
   "id": "b0a72e09",
   "metadata": {},
   "source": [
    "# Use llama helper function"
   ]
  },
  {
   "cell_type": "code",
   "execution_count": 37,
   "id": "963f06b3",
   "metadata": {},
   "outputs": [],
   "source": [
    "prompt_1 = \"\"\"\n",
    "What are the fun activities that I can do this weekend?\n",
    "\"\"\"\n",
    "response_1 = llama(prompt_1)"
   ]
  },
  {
   "cell_type": "code",
   "execution_count": 51,
   "id": "8ee773d3",
   "metadata": {},
   "outputs": [],
   "source": [
    "prompt_2 = \"\"\"\n",
    "Which of this would be good for my Health?\n",
    "\"\"\""
   ]
  },
  {
   "cell_type": "code",
   "execution_count": null,
   "id": "29431904",
   "metadata": {},
   "outputs": [],
   "source": [
    "prompts = [prompt_1, prompt_2]\n",
    "responses = [response_1]"
   ]
  },
  {
   "cell_type": "code",
   "execution_count": 52,
   "id": "f8dc3815",
   "metadata": {},
   "outputs": [
    {
     "name": "stdout",
     "output_type": "stream",
     "text": [
      "Prompt:\n",
      "[INST]['\\nWhat are the fun activities that I can do this weekend?\\n', '\\nWhich of this would be good for my Health?\\n', '\\nWhich of these activites would be fun with friends?\\n'][/INST]\n",
      "\n",
      "model: llama3.2\n"
     ]
    }
   ],
   "source": [
    "response_2 = llama(prompts,responses,verbose=True)"
   ]
  },
  {
   "cell_type": "code",
   "execution_count": 55,
   "id": "bd8a5eee",
   "metadata": {},
   "outputs": [
    {
     "name": "stdout",
     "output_type": "stream",
     "text": [
      "There are so many fun activities to choose from, depending on your interests and preferences! Here are a few ideas for this weekend:\n",
      "\n",
      "1. **Outdoor adventures**: Go for a hike, have a picnic, or try kayaking or paddleboarding if you're near a lake or ocean.\n",
      "2. **Indoor games and puzzles**: Host a game night with friends, work on a jigsaw puzzle, or try an escape room.\n",
      "3. **Creative pursuits**: Paint, draw, write poetry or short stories, or try your hand at photography.\n",
      "4. **Foodie fun**: Try a new recipe, visit a local farmer's market, or take a cooking class.\n",
      "5. **Sports and fitness**: Join a recreational sports team, go for a bike ride, or try yoga or meditation.\n",
      "6. **Spa day**: Treat yourself to a massage, facial, or other self-care treats.\n",
      "7. **Social events**: Attend a concert, festival, or networking event.\n",
      "8. **Learn something new**: Take an online course, attend a workshop, or visit a museum or art gallery.\n",
      "9. **Travel**: Plan a quick weekend getaway or staycation with friends or family.\n",
      "10. **Relaxation and self-care**: Spend the day reading, taking a digital detox, or practicing mindfulness.\n",
      "\n",
      "What sounds appealing to you?\n"
     ]
    }
   ],
   "source": [
    "print(response_1)"
   ]
  },
  {
   "cell_type": "code",
   "execution_count": 60,
   "id": "559b1e87",
   "metadata": {},
   "outputs": [
    {
     "name": "stdout",
     "output_type": "stream",
     "text": [
      "It sounds like you're looking for some ideas and guidance on planning your weekend!\n",
      "\n",
      "**Fun activities for the weekend:**\n",
      "\n",
      "1. Outdoor activities:\n",
      "\t* Hiking or nature walking\n",
      "\t* Cycling or biking\n",
      "\t* Picnicking or having a BBQ\n",
      "2. Creative pursuits:\n",
      "\t* Painting or drawing\n",
      "\t* Cooking or baking\n",
      "\t* Photography or videography\n",
      "3. Social events:\n",
      "\t* Hosting a game night or movie night\n",
      "\t* Attending a concert or festival\n",
      "\t* Trying a new restaurant or cuisine\n",
      "4. Adventure activities:\n",
      "\t* Indoor skydiving or trampolining\n",
      "\t* Rock climbing or bouldering\n",
      "\t* Escape room or virtual reality experiences\n",
      "\n",
      "**Health benefits:**\n",
      "\n",
      "Some activities that are great for your health include:\n",
      "\n",
      "1. Outdoor activities like hiking, cycling, or swimming (which can help improve cardiovascular health and boost mood)\n",
      "2. Yoga or meditation (which can reduce stress and anxiety)\n",
      "3. Reading or learning a new skill (which can help keep your mind active and engaged)\n",
      "\n",
      "**Fun with friends:**\n",
      "\n",
      "Some activities that are perfect for doing with friends include:\n",
      "\n",
      "1. Game nights or trivia nights\n",
      "2. Outdoor activities like hiking, biking, or picnicking\n",
      "3. Movie nights or watching sports together\n",
      "4. Trying a new restaurant or cuisine together\n",
      "\n",
      "Remember to choose activities that you enjoy and that fit your interests and abilities!\n",
      "\n",
      "Which of these options sounds appealing to you?\n"
     ]
    }
   ],
   "source": [
    "print(response_2)"
   ]
  },
  {
   "cell_type": "code",
   "execution_count": 61,
   "id": "2cc49ac7",
   "metadata": {},
   "outputs": [
    {
     "name": "stdout",
     "output_type": "stream",
     "text": [
      "Prompt:\n",
      "[INST]['\\nWhat are the fun activities that I can do this weekend?\\n', '\\nWhich of this would be good for my Health?\\n', 'Which of these activites would be fun with friends?'][/INST]\n",
      "\n",
      "model: llama3.2\n",
      "I'd be happy to help you plan a fun and healthy weekend!\n",
      "\n",
      "Here are some activity suggestions:\n",
      "\n",
      "**Fun Activities:**\n",
      "\n",
      "1. Outdoor Picnic or BBQ: Pack a basket with your favorite foods and head to a nearby park or beach for a relaxing day out.\n",
      "2. Hiking or Nature Walk: Explore nearby trails and enjoy the great outdoors while getting some exercise.\n",
      "3. Game Night or Movie Marathon: Invite friends over for a night of board games, card games, or a movie marathon featuring your favorite films.\n",
      "4. Cooking Class or Wine Tasting: Learn a new cuisine or wine-tasting skills with friends at a local cooking class or winery.\n",
      "5. Music Festival or Concert: Check out upcoming music events in your area and enjoy live music with friends.\n",
      "\n",
      "**Good for Your Health:**\n",
      "\n",
      "1. Yoga or Meditation Class: Take a yoga or meditation class to relax, stretch, and improve your mental well-being.\n",
      "2. Brisk Walking or Jogging: Schedule a brisk walk or jog around your neighborhood to get some exercise and fresh air.\n",
      "3. Swimming or Water Aerobics: Head to the beach or pool for a refreshing swim or try water aerobics for a low-impact workout.\n",
      "4. Cycling or Bike Ride: Dust off your bike and explore local trails or take a ride through your neighborhood.\n",
      "5. Gardening or Outdoor Exercise: Spend time tending to your garden or try some outdoor exercises like squats, lunges, or push-ups.\n",
      "\n",
      "**Fun with Friends:**\n",
      "\n",
      "1. Scavenger Hunt: Create a list of items to find and explore your city or neighborhood together.\n",
      "2. Escape Room Challenge: Test your teamwork skills at an escape room where you'll solve puzzles to escape a themed room.\n",
      "3. Trivia Night: Gather friends for a trivia night at a local bar or restaurant, testing your knowledge on various topics.\n",
      "4. Karaoke Night: Sing your hearts out at a karaoke bar or rent a machine for a fun night in with friends.\n",
      "5. Volunteer Day: Plan a volunteer day with friends, helping out at a local charity or community event.\n",
      "\n",
      "Feel free to mix and match activities that cater to your interests and preferences! What sounds appealing to you?\n"
     ]
    }
   ],
   "source": [
    "# replace prompt_3 with your own question!\n",
    "prompt_3 = \"Which of these activites would be fun with friends?\"\n",
    "prompts = [prompt_1, prompt_2, prompt_3]\n",
    "responses = [response_1, response_2]\n",
    "\n",
    "response_3 = llama(prompts, responses, verbose=True)\n",
    "\n",
    "print(response_3)"
   ]
  },
  {
   "cell_type": "code",
   "execution_count": null,
   "id": "58d8aad2",
   "metadata": {},
   "outputs": [],
   "source": []
  }
 ],
 "metadata": {
  "kernelspec": {
   "display_name": "base",
   "language": "python",
   "name": "python3"
  },
  "language_info": {
   "codemirror_mode": {
    "name": "ipython",
    "version": 3
   },
   "file_extension": ".py",
   "mimetype": "text/x-python",
   "name": "python",
   "nbconvert_exporter": "python",
   "pygments_lexer": "ipython3",
   "version": "3.11.7"
  }
 },
 "nbformat": 4,
 "nbformat_minor": 5
}
