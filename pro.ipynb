{
 "cells": [
  {
   "cell_type": "markdown",
   "id": "5d593469",
   "metadata": {},
   "source": [
    "# Prompting with Llama Models\n",
    "# Sentiment Classification\n",
    "- Compare the models on few-shot prompt sentiment classification.\n",
    "- You are asking the model to return a one word response."
   ]
  },
  {
   "cell_type": "code",
   "execution_count": 1,
   "id": "0b6ca0a8",
   "metadata": {},
   "outputs": [],
   "source": [
    "from utils import llama"
   ]
  },
  {
   "cell_type": "code",
   "execution_count": 15,
   "id": "14781a89",
   "metadata": {},
   "outputs": [],
   "source": [
    "prompt = '''\n",
    "Message: Hi Amit, thanks for the thoughtful birthday card!\n",
    "Sentiment: Positive\n",
    "Message: Hi Dad, you're 20 minutes late to my piano recital!\n",
    "Sentiment: Negative\n",
    "Message: Can't wait to order pizza for dinner tonight!\n",
    "Sentiment: ?\n",
    "\n",
    "Give me in one word answer either Positive or Negative?\n",
    "\n",
    "'''"
   ]
  },
  {
   "cell_type": "code",
   "execution_count": 16,
   "id": "e98b53b4",
   "metadata": {},
   "outputs": [
    {
     "name": "stdout",
     "output_type": "stream",
     "text": [
      "Positive\n"
     ]
    }
   ],
   "source": [
    "response = llama(prompt)\n",
    "print(response)"
   ]
  },
  {
   "cell_type": "markdown",
   "id": "596e1a26",
   "metadata": {},
   "source": [
    "# Prompting with LLM Models with given content."
   ]
  },
  {
   "cell_type": "code",
   "execution_count": null,
   "id": "5fd99b70",
   "metadata": {},
   "outputs": [],
   "source": [
    "content = \"\"\"\n",
    "A India won the world cup in 2nd April 2011 and Dhoni finishes the Match.\n",
    "\"\"\""
   ]
  },
  {
   "cell_type": "code",
   "execution_count": 18,
   "id": "d7d84c75",
   "metadata": {},
   "outputs": [],
   "source": [
    "prompt =f\"\"\"\n",
    "Give me answer based on the given Question using the content.\n",
    "Question : Who won the Worldcup in 2011\n",
    "\n",
    "content : {content}\n",
    "\"\"\""
   ]
  },
  {
   "cell_type": "code",
   "execution_count": 19,
   "id": "dd212e8e",
   "metadata": {},
   "outputs": [
    {
     "name": "stdout",
     "output_type": "stream",
     "text": [
      "India won the Cricket World Cup in 2011.\n"
     ]
    }
   ],
   "source": [
    "response = llama(prompt)\n",
    "print(response)"
   ]
  },
  {
   "cell_type": "code",
   "execution_count": 20,
   "id": "d6c1ed30",
   "metadata": {},
   "outputs": [],
   "source": [
    "prompt = f\"\"\"\n",
    "Who finishes the match?\n",
    "\n",
    "content : {content}\n",
    "\"\"\""
   ]
  },
  {
   "cell_type": "code",
   "execution_count": 21,
   "id": "36414bd4",
   "metadata": {},
   "outputs": [
    {
     "name": "stdout",
     "output_type": "stream",
     "text": [
      "The answer to the question is:\n",
      "\n",
      "MS Dhoni.\n",
      "\n",
      "According to the content, MS Dhoni (the Indian captain) finished the match, which resulted in India winning the World Cup on April 2, 2011.\n"
     ]
    }
   ],
   "source": [
    "response = llama(prompt)\n",
    "print(response)"
   ]
  },
  {
   "cell_type": "code",
   "execution_count": null,
   "id": "235788d1",
   "metadata": {},
   "outputs": [],
   "source": []
  }
 ],
 "metadata": {
  "kernelspec": {
   "display_name": "base",
   "language": "python",
   "name": "python3"
  },
  "language_info": {
   "codemirror_mode": {
    "name": "ipython",
    "version": 3
   },
   "file_extension": ".py",
   "mimetype": "text/x-python",
   "name": "python",
   "nbconvert_exporter": "python",
   "pygments_lexer": "ipython3",
   "version": "3.11.7"
  }
 },
 "nbformat": 4,
 "nbformat_minor": 5
}
